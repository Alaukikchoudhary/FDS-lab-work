{
  "nbformat": 4,
  "nbformat_minor": 0,
  "metadata": {
    "colab": {
      "provenance": []
    },
    "kernelspec": {
      "name": "python3",
      "display_name": "Python 3"
    },
    "language_info": {
      "name": "python"
    }
  },
  "cells": [
    {
      "cell_type": "markdown",
      "source": [
        "Write a Numpy program to get the Numpy version."
      ],
      "metadata": {
        "id": "OPGBaWke20bD"
      }
    },
    {
      "cell_type": "code",
      "source": [
        "# Importing the NumPy library with an alias 'np'\n",
        "import numpy as np\n",
        "\n",
        "# Printing the version of NumPy installed\n",
        "print(np.__version__)\n",
        "\n",
        "# Printing the configuration details of NumPy\n",
        "print(np.show_config())"
      ],
      "metadata": {
        "colab": {
          "base_uri": "https://localhost:8080/"
        },
        "id": "KM8zJASw0pXo",
        "outputId": "7613150a-aefa-4018-9e40-84f6073895c8"
      },
      "execution_count": 1,
      "outputs": [
        {
          "output_type": "stream",
          "name": "stdout",
          "text": [
            "1.25.2\n",
            "openblas64__info:\n",
            "    libraries = ['openblas64_', 'openblas64_']\n",
            "    library_dirs = ['/usr/local/lib']\n",
            "    language = c\n",
            "    define_macros = [('HAVE_CBLAS', None), ('BLAS_SYMBOL_SUFFIX', '64_'), ('HAVE_BLAS_ILP64', None)]\n",
            "    runtime_library_dirs = ['/usr/local/lib']\n",
            "blas_ilp64_opt_info:\n",
            "    libraries = ['openblas64_', 'openblas64_']\n",
            "    library_dirs = ['/usr/local/lib']\n",
            "    language = c\n",
            "    define_macros = [('HAVE_CBLAS', None), ('BLAS_SYMBOL_SUFFIX', '64_'), ('HAVE_BLAS_ILP64', None)]\n",
            "    runtime_library_dirs = ['/usr/local/lib']\n",
            "openblas64__lapack_info:\n",
            "    libraries = ['openblas64_', 'openblas64_']\n",
            "    library_dirs = ['/usr/local/lib']\n",
            "    language = c\n",
            "    define_macros = [('HAVE_CBLAS', None), ('BLAS_SYMBOL_SUFFIX', '64_'), ('HAVE_BLAS_ILP64', None), ('HAVE_LAPACKE', None)]\n",
            "    runtime_library_dirs = ['/usr/local/lib']\n",
            "lapack_ilp64_opt_info:\n",
            "    libraries = ['openblas64_', 'openblas64_']\n",
            "    library_dirs = ['/usr/local/lib']\n",
            "    language = c\n",
            "    define_macros = [('HAVE_CBLAS', None), ('BLAS_SYMBOL_SUFFIX', '64_'), ('HAVE_BLAS_ILP64', None), ('HAVE_LAPACKE', None)]\n",
            "    runtime_library_dirs = ['/usr/local/lib']\n",
            "Supported SIMD extensions in this NumPy install:\n",
            "    baseline = SSE,SSE2,SSE3\n",
            "    found = SSSE3,SSE41,POPCNT,SSE42,AVX,F16C,FMA3,AVX2\n",
            "    not found = AVX512F,AVX512CD,AVX512_KNL,AVX512_KNM,AVX512_SKX,AVX512_CLX,AVX512_CNL,AVX512_ICL\n",
            "None\n"
          ]
        }
      ]
    },
    {
      "cell_type": "markdown",
      "source": [
        "Write a NumPy program to test whether none of the\n",
        "elements of a given array are zero."
      ],
      "metadata": {
        "id": "Ty09n4lM2oqJ"
      }
    },
    {
      "cell_type": "code",
      "source": [
        "import numpy as np\n",
        "x = np.array([1, 2, 3, 4])\n",
        "print(\"Original array:\")\n",
        "print(x)\n",
        "print(\"Test if none of the elements of the said array is zero:\")\n",
        "print(np.all(x))"
      ],
      "metadata": {
        "colab": {
          "base_uri": "https://localhost:8080/"
        },
        "id": "eEDaqHBD2WEw",
        "outputId": "283c5b4f-29b5-4a65-ed7a-182f979a8407"
      },
      "execution_count": 3,
      "outputs": [
        {
          "output_type": "stream",
          "name": "stdout",
          "text": [
            "Original array:\n",
            "[1 2 3 4]\n",
            "Test if none of the elements of the said array is zero:\n",
            "True\n"
          ]
        }
      ]
    },
    {
      "cell_type": "code",
      "source": [
        "import numpy as np\n",
        "x = np.array([0,1,2,3])\n",
        "print(\"original array:\")\n",
        "print(x)\n",
        "print(\"Test if none oof the element of the said array is zero:\")\n",
        "print(np,all(x))"
      ],
      "metadata": {
        "colab": {
          "base_uri": "https://localhost:8080/"
        },
        "id": "2NPgURNt3RWK",
        "outputId": "082fa3f8-4fa6-4747-9381-b8b58dc6baef"
      },
      "execution_count": 5,
      "outputs": [
        {
          "output_type": "stream",
          "name": "stdout",
          "text": [
            "original array:\n",
            "[0 1 2 3]\n",
            "Test if none oof the element of the said array is zero:\n",
            "<module 'numpy' from '/usr/local/lib/python3.10/dist-packages/numpy/__init__.py'> False\n"
          ]
        }
      ]
    },
    {
      "cell_type": "markdown",
      "source": [
        "Write a NumPy program to create an element-wise\n",
        "comparison (greater, greater_equal, less and less_equal) of\n",
        "two given arrays.\n"
      ],
      "metadata": {
        "id": "5tJSdzM65hwR"
      }
    },
    {
      "cell_type": "code",
      "source": [
        "import numpy as np\n",
        "\n",
        "x = np.array([4, 5])\n",
        "y = np.array([5, 5])\n",
        "\n",
        "print(\"Original numbers:\")\n",
        "print(x)\n",
        "print(y)\n",
        "\n",
        "print(\"Comparison - greater\")\n",
        "print(np.greater(x, y))\n",
        "\n",
        "print(\"Comparison - greater_equal\")\n",
        "print(np.greater_equal(x, y))\n",
        "\n",
        "print(\"Comparison - less\")\n",
        "print(np.less(x, y))\n",
        "\n",
        "print(\"Comparison - less_equal\")\n",
        "print(np.less_equal(x, y))"
      ],
      "metadata": {
        "colab": {
          "base_uri": "https://localhost:8080/"
        },
        "id": "ocUUinQF4MFr",
        "outputId": "04d3a447-1c89-437a-dc88-d910b7da2cb6"
      },
      "execution_count": 6,
      "outputs": [
        {
          "output_type": "stream",
          "name": "stdout",
          "text": [
            "Original numbers:\n",
            "[4 5]\n",
            "[5 5]\n",
            "Comparison - greater\n",
            "[False False]\n",
            "Comparison - greater_equal\n",
            "[False  True]\n",
            "Comparison - less\n",
            "[ True False]\n",
            "Comparison - less_equal\n",
            "[ True  True]\n"
          ]
        }
      ]
    },
    {
      "cell_type": "markdown",
      "source": [
        "Write a NumPy program to create an array with the values\n",
        "1, 7, 13, 105 and determine the size of the memory occupied\n",
        "by the array."
      ],
      "metadata": {
        "id": "Aa8Dpz6568MV"
      }
    },
    {
      "cell_type": "code",
      "source": [
        "import numpy as np\n",
        "\n",
        "X = np.array([1, 7, 13, 105])\n",
        "\n",
        "print(\"Original array:\")\n",
        "print(X)\n",
        "\n",
        "print(\"Size of the memory occupied by the given array:\")\n",
        "print(\"%d bytes\" % (X.size * X.itemsize))"
      ],
      "metadata": {
        "colab": {
          "base_uri": "https://localhost:8080/"
        },
        "id": "ECmyAQV15dgc",
        "outputId": "1e0d27eb-987c-43e3-a009-ba0e63d53bc5"
      },
      "execution_count": 7,
      "outputs": [
        {
          "output_type": "stream",
          "name": "stdout",
          "text": [
            "Original array:\n",
            "[  1   7  13 105]\n",
            "Size of the memory occupied by the said array:\n",
            "32 bytes\n"
          ]
        }
      ]
    },
    {
      "cell_type": "markdown",
      "source": [
        "Write a NumPy program to create an array of integers\n",
        "from 30 to 70."
      ],
      "metadata": {
        "id": "bYSKX6LT7wn6"
      }
    },
    {
      "cell_type": "code",
      "source": [
        "import numpy as np\n",
        "\n",
        "array = np.arange(30, 71)\n",
        "\n",
        "print(\"Array of the integers from 30 to 70\")\n",
        "\n",
        "print(array)"
      ],
      "metadata": {
        "colab": {
          "base_uri": "https://localhost:8080/"
        },
        "id": "zxUZXsjK7HP2",
        "outputId": "b685d51e-8553-4d62-a20f-4b5caaefe563"
      },
      "execution_count": 8,
      "outputs": [
        {
          "output_type": "stream",
          "name": "stdout",
          "text": [
            "Array of the integers from 30 to 70\n",
            "[30 31 32 33 34 35 36 37 38 39 40 41 42 43 44 45 46 47 48 49 50 51 52 53\n",
            " 54 55 56 57 58 59 60 61 62 63 64 65 66 67 68 69 70]\n"
          ]
        }
      ]
    },
    {
      "cell_type": "markdown",
      "source": [
        "Write a NumPy program to create an array of all even\n",
        "integers from 30 to 70."
      ],
      "metadata": {
        "id": "64pnDdHd9ahh"
      }
    },
    {
      "cell_type": "code",
      "source": [
        "import numpy as np\n",
        "\n",
        "# Creating an array of even integers from 30 to 70 (inclusive) with a step size of 2 using np.arange()\n",
        "array = np.arange(30,71,2)\n",
        "\n",
        "print(\"Array of the all even integers from 30 to 70\")\n",
        "\n",
        "print(array)"
      ],
      "metadata": {
        "colab": {
          "base_uri": "https://localhost:8080/"
        },
        "id": "rP_DU7eK7rly",
        "outputId": "3ece5eb3-c493-40ca-b83b-3e5f0eea2fd7"
      },
      "execution_count": 11,
      "outputs": [
        {
          "output_type": "stream",
          "name": "stdout",
          "text": [
            "Array of the all even integers from 30 to 70\n",
            "[30 32 34 36 38 40 42 44 46 48 50 52 54 56 58 60 62 64 66 68 70]\n"
          ]
        }
      ]
    },
    {
      "cell_type": "markdown",
      "source": [
        "Write a NumPy program to create a 3x3 identity matrix.\n",
        "Write a search NumPy program to create a 3X4 array and\n",
        "iterate over it."
      ],
      "metadata": {
        "id": "HSTDv9Nd9--T"
      }
    },
    {
      "cell_type": "code",
      "source": [
        "import numpy as np\n",
        "\n",
        "array_2D = np.identity(3)\n",
        "\n",
        "print('3x3 matrix:')\n",
        "\n",
        "print(array_2D)"
      ],
      "metadata": {
        "colab": {
          "base_uri": "https://localhost:8080/"
        },
        "id": "bgsM4RgK9cq1",
        "outputId": "30934fd8-3381-40b3-9b16-65e85d5c65fa"
      },
      "execution_count": 12,
      "outputs": [
        {
          "output_type": "stream",
          "name": "stdout",
          "text": [
            "3x3 matrix:\n",
            "[[1. 0. 0.]\n",
            " [0. 1. 0.]\n",
            " [0. 0. 1.]]\n"
          ]
        }
      ]
    }
  ]
}